{
 "cells": [
  {
   "cell_type": "markdown",
   "id": "bde53e5e",
   "metadata": {},
   "source": [
    "# useful functions in numpy to remember\n",
    "- np.sort()\n",
    "- np.append()\n",
    "- np.concatanate()\n",
    "- np.unique()\n",
    "- np.expand_dims()\n",
    "- np.where()\n",
    "- np.argmax(), np.argmin()\n",
    "- np.cumsum(), np.cumprod()\n",
    "- np.percentile()\n",
    "- np.histogram()\n",
    "- np.corrcoef()\n",
    "- np.isin()\n",
    "- np.flip()\n",
    "- np.put()\n",
    "- np.delete()\n",
    "- np.union1d()\n",
    "- np.intersect1d()\n",
    "- np.setdiff1d()\n",
    "- np.setxor1d()\n",
    "- np.in1d()\n",
    "- np.clip()\n",
    "- set Functions"
   ]
  },
  {
   "cell_type": "code",
   "execution_count": null,
   "id": "feefa500",
   "metadata": {},
   "outputs": [],
   "source": []
  }
 ],
 "metadata": {
  "kernelspec": {
   "display_name": "Python 3 (ipykernel)",
   "language": "python",
   "name": "python3"
  },
  "language_info": {
   "codemirror_mode": {
    "name": "ipython",
    "version": 3
   },
   "file_extension": ".py",
   "mimetype": "text/x-python",
   "name": "python",
   "nbconvert_exporter": "python",
   "pygments_lexer": "ipython3",
   "version": "3.10.9"
  }
 },
 "nbformat": 4,
 "nbformat_minor": 5
}
